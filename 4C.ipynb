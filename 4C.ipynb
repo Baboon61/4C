{
 "cells": [
  {
   "cell_type": "markdown",
   "metadata": {
    "collapsed": true
   },
   "source": [
    "# <u>Technical support : 4C</u>"
   ]
  },
  {
   "cell_type": "markdown",
   "metadata": {},
   "source": [
    "## 1) Introduction"
   ]
  },
  {
   "cell_type": "markdown",
   "metadata": {},
   "source": [
    "### &nbsp;&nbsp;&nbsp;&nbsp;&nbsp;&nbsp;&nbsp;&nbsp;1.1) Documentation"
   ]
  },
  {
   "cell_type": "markdown",
   "metadata": {},
   "source": [
    "This documentation contains the requierements and installation process to set up 4C process.<br>\n",
    "\n",
    "This is dedicated to beginner linux users comfortable with computer science concepts.<br>\n",
    "\n",
    "While reading, you will find 2 kinds of block instructions : <br>\n",
    "\n",
    "- (### CODE ###) you need to write the line(s) below in a terminal. Modify the command line at your convenance. To open a terminal, right click on desktop or search it in the applications tool bar. To copy/paste in a ternimal Ctrl+Shift+C/Ctrl+Shift+V (You will be able to copy/paste after the CD Guest addition (2.2.2))\n",
    "- (### INFORMATION ###) meaning there are information about how a program works, like all the options a scripts can handle. It is possible to use an option in the short way, using one letter (-m) or in the long way, using the complete word for the option (--metadata). Note the unique hyphen and the double hyphen. Options can be followed by arguments which can be integer, float or string. Non essential options are in brakets. This block should not be copy paste in a terminal, this is not a command line.<br>\n",
    "\n",
    "To create a new file, open a terminal in the location you want to save your file then :<br>"
   ]
  },
  {
   "cell_type": "code",
   "execution_count": null,
   "metadata": {
    "collapsed": true
   },
   "outputs": [],
   "source": [
    "### CODE ###\n",
    "gedit name_of_file"
   ]
  },
  {
   "cell_type": "markdown",
   "metadata": {
    "collapsed": true
   },
   "source": [
    "If you got error about permissions on script programs run the following :"
   ]
  },
  {
   "cell_type": "code",
   "execution_count": null,
   "metadata": {
    "collapsed": true
   },
   "outputs": [],
   "source": [
    "### CODE ###\n",
    "cd /home/lam/Documents/4C/Scripts\n",
    "chmod 755 *"
   ]
  },
  {
   "cell_type": "markdown",
   "metadata": {},
   "source": [
    "### &nbsp;&nbsp;&nbsp;&nbsp;&nbsp;&nbsp;&nbsp;&nbsp;1.2) Good practises"
   ]
  },
  {
   "cell_type": "markdown",
   "metadata": {
    "collapsed": true
   },
   "source": [
    "All scripts contains simple comments about what is going on major parts. If you want more information about Python or R scripts, open them in text editor and read the commented lines"
   ]
  },
  {
   "cell_type": "markdown",
   "metadata": {
    "collapsed": true
   },
   "source": [
    "Please, try to avoid special characters (space, hyphen, star, hash...) in all your inputs (parameter arguments, parameter files...)"
   ]
  },
  {
   "cell_type": "markdown",
   "metadata": {
    "collapsed": true
   },
   "source": [
    "The minimum hardware config is 10Go of hard drive space"
   ]
  },
  {
   "cell_type": "markdown",
   "metadata": {},
   "source": [
    "## 2) Installations & Requierements"
   ]
  },
  {
   "cell_type": "markdown",
   "metadata": {},
   "source": [
    "In installation steps, make sure you have no error at the end of each command lines. If you do, please contact bastienherve61340@orange.fr"
   ]
  },
  {
   "cell_type": "markdown",
   "metadata": {},
   "source": [
    "### &nbsp;&nbsp;&nbsp;&nbsp;&nbsp;&nbsp;&nbsp;&nbsp;2.1) Install a Virtual Machine tool"
   ]
  },
  {
   "cell_type": "markdown",
   "metadata": {
    "collapsed": true
   },
   "source": [
    "You can install VirtualBox from this link : https://www.virtualbox.org/wiki/Downloads"
   ]
  },
  {
   "cell_type": "markdown",
   "metadata": {
    "collapsed": true
   },
   "source": [
    "You can use any virtual machine tool you want."
   ]
  },
  {
   "cell_type": "markdown",
   "metadata": {},
   "source": [
    "#### &nbsp;&nbsp;&nbsp;&nbsp;&nbsp;&nbsp;&nbsp;&nbsp;&nbsp;&nbsp;&nbsp;&nbsp;&nbsp;&nbsp;&nbsp;&nbsp;2.1.1) Download Linux iso"
   ]
  },
  {
   "cell_type": "markdown",
   "metadata": {
    "collapsed": true
   },
   "source": [
    "An iso is a file that looks like a CD for the machine. You can download an iso to mount a virtual machine in a virtual box.<br >\n",
    "This pipeline works with Ubuntu 18.04, could work with an other distribution or lower Ubuntu version (not tested)."
   ]
  },
  {
   "cell_type": "markdown",
   "metadata": {
    "collapsed": true
   },
   "source": [
    "Get the iso here : https://www.ubuntu.com/download/desktop (take amd64)"
   ]
  },
  {
   "cell_type": "markdown",
   "metadata": {},
   "source": [
    "#### &nbsp;&nbsp;&nbsp;&nbsp;&nbsp;&nbsp;&nbsp;&nbsp;&nbsp;&nbsp;&nbsp;&nbsp;&nbsp;&nbsp;&nbsp;&nbsp;2.1.2) Create your Linux Virtual Machine"
   ]
  },
  {
   "cell_type": "markdown",
   "metadata": {
    "collapsed": true
   },
   "source": [
    "- Run your VirtualBox application.<br >\n",
    "- Go to new, I named mine \"LAM\", choose type -> Linux, version Ubuntu 64 bits, memory space 8000Mio (or less if you don't have), hard drive -> create a virtual hard drive now<br >\n",
    "- File size -> 10Go (If you have 1 genome), VDI, allocate dynamicaly<br >\n",
    "- And create!\n",
    "- Restart your machine"
   ]
  },
  {
   "cell_type": "markdown",
   "metadata": {},
   "source": [
    "### &nbsp;&nbsp;&nbsp;&nbsp;&nbsp;&nbsp;&nbsp;&nbsp;2.2) Install Linux"
   ]
  },
  {
   "cell_type": "markdown",
   "metadata": {
    "collapsed": true
   },
   "source": [
    "- Run your linux virtual machine\n",
    "- First run, it will ask you the iso file (click on the folder and look for the iso file)\n",
    "- Install it with all the updates (you can erase disk and install ubuntu, it is a virtual machine anyway)\n",
    "- Name your machine whatever you want but remember it, it is your user name (mine is : 4c)\n",
    "- Wait...\n",
    "- Then, open a terminal, write the line below"
   ]
  },
  {
   "cell_type": "code",
   "execution_count": null,
   "metadata": {
    "collapsed": true
   },
   "outputs": [],
   "source": [
    "### CODE ###\n",
    "#To update the machine\n",
    "sudo apt-get update\n",
    "sudo apt-get -y upgrade"
   ]
  },
  {
   "cell_type": "markdown",
   "metadata": {
    "collapsed": true
   },
   "source": [
    "- Shutdown the linux virtual machine"
   ]
  },
  {
   "cell_type": "markdown",
   "metadata": {},
   "source": [
    "#### &nbsp;&nbsp;&nbsp;&nbsp;&nbsp;&nbsp;&nbsp;&nbsp;&nbsp;&nbsp;&nbsp;&nbsp;&nbsp;&nbsp;&nbsp;&nbsp;2.2.1) Install shared folder"
   ]
  },
  {
   "cell_type": "markdown",
   "metadata": {
    "collapsed": true
   },
   "source": [
    "No need to copy/paste all your data on the virtual machine, just create a shared folder"
   ]
  },
  {
   "cell_type": "markdown",
   "metadata": {
    "collapsed": true
   },
   "source": [
    "Create a LAM directory wherever you want, in your Documents for example"
   ]
  },
  {
   "cell_type": "markdown",
   "metadata": {
    "collapsed": true
   },
   "source": [
    "- In machine manager -> share folder\n",
    "- Add new share directory, pathway -> C:\\Users\\your_name\\Documents\\4C\n",
    "- Select auto mount !\n",
    "- In machine manager, go to Settings -> General -> Advanced\n",
    "- Shared paper press to bidirectionnal. Same for copy/paste"
   ]
  },
  {
   "cell_type": "markdown",
   "metadata": {
    "collapsed": true
   },
   "source": [
    "- Run linux virtual machine"
   ]
  },
  {
   "cell_type": "markdown",
   "metadata": {},
   "source": [
    "#### &nbsp;&nbsp;&nbsp;&nbsp;&nbsp;&nbsp;&nbsp;&nbsp;&nbsp;&nbsp;&nbsp;&nbsp;&nbsp;&nbsp;&nbsp;&nbsp;2.2.2) Install CD Guest addition"
   ]
  },
  {
   "cell_type": "markdown",
   "metadata": {
    "collapsed": true
   },
   "source": [
    "- To install the guest addiction. Go in the Virtual Machine menu, Devices -> Insert CD Guest Addition<br>\n",
    "- If you only got a kernel error you can go to the next step. If you got a \"Building the main Guest Additions module... fail\", that means the install failed.\n",
    "If you have trouble to install the CD Guest Addition, you can try to get a more recent version of the CD Guest Addition ( https://download.virtualbox.org/virtualbox/5.2.18/VBoxGuestAdditions_5.2.18.iso ), or in general ( https://download.virtualbox.org/virtualbox/ )<br>\n",
    "Then go the Virtual Machine menu, Devices -> optical drives -> Choose disk image, and look for the file you just downloaded\n",
    "- You can eject VBox disk"
   ]
  },
  {
   "cell_type": "code",
   "execution_count": null,
   "metadata": {
    "collapsed": true
   },
   "outputs": [],
   "source": [
    "### CODE ###\n",
    "###Change lam by your machine name\n",
    "sudo usermod -aG vboxsf 4C"
   ]
  },
  {
   "cell_type": "markdown",
   "metadata": {
    "collapsed": true
   },
   "source": [
    "- Restart linux virtual machine"
   ]
  },
  {
   "cell_type": "markdown",
   "metadata": {
    "collapsed": true
   },
   "source": [
    "From here, you should be able to access the shared directory as an hard drive (with \"sf_\" in front of the share folder name).<br>\n",
    "It will also be accessible at path : /media/sf_4C<br>\n",
    "The path will be very usefull in all command line."
   ]
  },
  {
   "cell_type": "markdown",
   "metadata": {},
   "source": [
    "### &nbsp;&nbsp;&nbsp;&nbsp;&nbsp;&nbsp;&nbsp;&nbsp;2.3) Import data"
   ]
  },
  {
   "cell_type": "markdown",
   "metadata": {},
   "source": [
    "Fastq you got from experiments need to be see by the virtual machine"
   ]
  },
  {
   "cell_type": "markdown",
   "metadata": {},
   "source": [
    "Create a Data folder in your 4C shared folder"
   ]
  },
  {
   "cell_type": "code",
   "execution_count": 2,
   "metadata": {
    "collapsed": true
   },
   "outputs": [],
   "source": [
    "### CODE ###\n",
    "###On your computer copy/paste your fastq.gz in Data (inside your share folder) (C:\\Users\\your_name\\Documents\\4C\\Data\\name_of_your_data)\n",
    "###Create a new folder per study (Example : Puce1, like :\\Users\\your_name\\Documents\\4C\\Data\\Puce1)\n",
    "###You can access the directory created at this path /media/sf_4C/Data/Puce1/\n",
    "ls /media/sf_4C/Data/Puce1/\n",
    "###You should be able to see your file here"
   ]
  },
  {
   "cell_type": "markdown",
   "metadata": {},
   "source": [
    "### &nbsp;&nbsp;&nbsp;&nbsp;&nbsp;&nbsp;&nbsp;&nbsp;2.4) Install R >= 3.5"
   ]
  },
  {
   "cell_type": "code",
   "execution_count": null,
   "metadata": {
    "collapsed": true
   },
   "outputs": [],
   "source": [
    "### CODE ###\n",
    "sudo apt-get install r-base\n",
    "sudo apt-get -y install libxml2-dev libssl-dev libcurl4-openssl-dev libmariadb-client-lgpl-dev libcairo2-dev libxt-dev\n",
    "sudo su\n",
    "echo \"deb http://www.stats.bris.ac.uk/R/bin/linux/ubuntu trusty/\" >> /etc/apt/sources.list\n",
    "apt-key adv --keyserver keyserver.ubuntu.com --recv-keys E084DAB9\n",
    "apt-get update\n",
    "apt-get upgrade\n",
    "exit\n",
    "sudo ln -s /bin/tar /bin/gtar\n",
    "R\n",
    "###In R\n",
    ">install.packages(\"devtools\")\n",
    "###twice yes\n",
    "###If you had to, select a mirror (France Lyon)\n",
    ">library(devtools)\n",
    ">options(unzip = \"internal\")\n",
    "#Repo from 4C-ker\n",
    "#>devtools::install_github(\"rr1859/R.4Cker\")\n",
    "#Repo a fork into my github to delete quality checks\n",
    ">devtools::install_github(\"Baboon61/R.4Cker\")\n",
    ">quit()\n",
    "###Out R (quit())"
   ]
  },
  {
   "cell_type": "markdown",
   "metadata": {},
   "source": [
    "### &nbsp;&nbsp;&nbsp;&nbsp;&nbsp;&nbsp;&nbsp;&nbsp;2.5) Install FASTx-toolkit"
   ]
  },
  {
   "cell_type": "code",
   "execution_count": null,
   "metadata": {
    "collapsed": true
   },
   "outputs": [],
   "source": [
    "### CODE ###\n",
    "conda install -c biobuilds fastx-toolkit"
   ]
  },
  {
   "cell_type": "markdown",
   "metadata": {},
   "source": [
    "## 3) Run 4C"
   ]
  },
  {
   "cell_type": "markdown",
   "metadata": {},
   "source": [
    "In the code you will have to change variables named #variable according to your data<br>\n",
    "fastq files should be in \"run\" path<br>\n",
    "barcodes.tsv should be in \"home\" path<br>\n",
    "baits.tsv should be in \"home\" path<br>\n",
    "\n",
    "<b>Adapt those files to your analysis</b>"
   ]
  },
  {
   "cell_type": "markdown",
   "metadata": {},
   "source": [
    "### &nbsp;&nbsp;&nbsp;&nbsp;3.1) Build Genome"
   ]
  },
  {
   "cell_type": "markdown",
   "metadata": {},
   "source": [
    "Before running, you have to know which genome you want to download and the fragment length (read length-(barcode+primer+RE))<br>\n",
    "Your enzyme fasta file should be in your $home path, as your genome.fasta"
   ]
  },
  {
   "cell_type": "code",
   "execution_count": null,
   "metadata": {
    "collapsed": true
   },
   "outputs": [],
   "source": [
    "#home=/path/of/my/barcodes/and/baits/enzymes/files\n",
    "#run=/path/of/my/fastq/files\n",
    "\n",
    "home=/media/sf_4C/Data\n",
    "run=/media/sf_4C/Data/Puce1\n",
    "\n",
    "#Get reference\n",
    "cd $home\n",
    "#Mouse\n",
    "wget ftp://ftp.ebi.ac.uk/pub/databases/gencode/Gencode_mouse/release_M21/GRCm38.p6.genome.fa.gz\n",
    "unzip GRCm38.p6.genome.fa.gz\n",
    "\n",
    "#Variables\n",
    "genome=GRCm38.p6.genome\n",
    "#fl=read length - (barcode+primer+RE)\n",
    "#CHANGE IT\n",
    "fl=30\n",
    "#Your enzyme\n",
    "enzyme=dpnii\n",
    "\n",
    "#get coordinates for all RE sites in the genome\n",
    "oligoMatch $home/${enzyme}.fa $home/${genome}.fa $run/${genome}_${enzyme}_restriction_sites_oligomatch.bed\n",
    "\n",
    "#get coordinates of upstream fragments\n",
    "awk -v fl=$fl '{print $1\"\\t\"$2-fl\"\\t\"$2}' $run/${genome}_${enzyme}_restriction_sites_oligomatch.bed > $run/up.txt\n",
    "\n",
    "#get coordinates of downstream fragments\n",
    "awk -v fl=$fl '{print $1\"\\t\"$3\"\\t\"$3+fl}' $run/${genome}_${enzyme}_restriction_sites_oligomatch.bed > $run/down.txt\n",
    "\n",
    "#combine up and downstream fragments\n",
    "cat $run/up.txt $run/down.txt > $run/${genome}_${enzyme}_flanking_sites_${fl}_2.bed\n",
    "\n",
    "#remove any fragments with negative coordinates\n",
    "awk '{if($2 >= 0 && $3 >=0) print $0}' $run/${genome}_${enzyme}_flanking_sites_${fl}_2.bed | grep -v -E 'random|JH|GL|hap|gl' - | sort -k1,1 -k2,2n | uniq  > $run/${genome}_${enzyme}_flanking_sites_${fl}_unique_2.bed\n",
    "\n",
    "#get the sequence of unique flanking coordinates\n",
    "fastaFromBed -fi $home/${genome}.fa -bed $run/${genome}_${enzyme}_flanking_sites_${fl}_unique_2.bed -fo $run/${genome}_${enzyme}_flanking_sequences_${fl}_unique_2.fa\n",
    "\n",
    "#get only sequences from FASTA file\n",
    "#This command is taking age, like 11h, so I took the next one, which filter the same way but sorting is different\n",
    "#grep -v '^>' $run/${genome}_${enzyme}_flanking_sequences_${fl}_unique_2.fa | sort | uniq -i -u | grep -xF -f - -B 1 $run/${genome}_${enzyme}_flanking_sequences_${fl}_unique_2.fa | grep -v '^--' > $run/${genome}_${enzyme}_flanking_sequences_${fl}_unique.fa\n",
    "cat $run/${genome}_${enzyme}_flanking_sequences_${fl}_unique_2.fa| paste - -| sort -k2,2 | uniq -u -f1 | sort -V -k1,1 | sed 's/\\t/\\n/g' > $run/${genome}_${enzyme}_flanking_sequences_${fl}_unique.fa\n",
    "\n",
    "#remove unwanted intermediate files\n",
    "rm $run/up.txt\n",
    "rm $run/down.txt\n",
    "\n",
    "#make a BED file of unique sequences\n",
    "grep '^>' $run/${genome}_${enzyme}_flanking_sequences_${fl}_unique.fa > $run/${genome}_${enzyme}_flanking_sites_${fl}_unique.bed\n",
    "sed -i 's/>//g' $run/${genome}_${enzyme}_flanking_sites_${fl}_unique.bed\n",
    "sed -i 's/:\\|-/\\t/g' $run/${genome}_${enzyme}_flanking_sites_${fl}_unique.bed\n",
    "\n",
    "#Then create a bowtie index using the .fa file you generated:\n",
    "bowtie2-build $run/${genome}_${enzyme}_flanking_sequences_${fl}_unique.fa $run/${genome}_${enzyme}_flanking_sequences_${fl}_unique.fa"
   ]
  },
  {
   "cell_type": "markdown",
   "metadata": {},
   "source": [
    "### &nbsp;&nbsp;&nbsp;&nbsp;3.2) Crop reads"
   ]
  },
  {
   "cell_type": "code",
   "execution_count": null,
   "metadata": {
    "collapsed": true
   },
   "outputs": [],
   "source": [
    "#home=/path/of/my/barcodes/and/baits/enzymes/files\n",
    "#run=/path/of/my/fastq/files\n",
    "\n",
    "home=/media/sf_4C/Data\n",
    "run=/media/sf_4C/Data/Puce1\n",
    "\n",
    "barcodes_file=$home/barcodes.tsv\n",
    "\n",
    "#Cut for 30 fragments length:\n",
    "#keep=barcode+primer+RE+30\n",
    "keep=56\n",
    "for file in $run/*.fastq;do fastx_trimmer -l 56 -i $file -o ${file%%.*}_FL30.fastq;done;\n",
    "\n",
    "Demultiplexing :\n",
    "cat $run/*FL30.fastq | fastx_barcode_splitter.pl --prefix Demultiplex_ --bcfile $barcodes_file --bol --mismatches 1 --suffix \".fastq\""
   ]
  },
  {
   "cell_type": "markdown",
   "metadata": {},
   "source": [
    "### &nbsp;&nbsp;&nbsp;&nbsp;3.3) Align reads"
   ]
  },
  {
   "cell_type": "code",
   "execution_count": null,
   "metadata": {
    "collapsed": true
   },
   "outputs": [],
   "source": [
    "#home=/path/of/my/barcodes/and/baits/enzymes/files\n",
    "#run=/path/of/my/fastq/files\n",
    "\n",
    "#Variables\n",
    "home=/media/sf_4C/Data\n",
    "run=/media/sf_4C/Data/Puce1\n",
    "genome=GRCm38.p6.genome\n",
    "#fl=read length - (barcode+primer+RE)\n",
    "#CHANGE IT\n",
    "fl=24\n",
    "#Your enzyme\n",
    "enzyme=dpnii\n",
    "#Same as fl\n",
    "size=24\n",
    "#Barcode+primer+RE full (4 or 6)\n",
    "trim_5=27\n",
    "#If read length-trim_5 > 30 trim exceeding\n",
    "trim_3=0\n",
    "bait_file=baits.tsv\n",
    "\n",
    "#Alignment\n",
    "for s in $run/Demultiplex_*.fastq;do sample=$(awk -F\"Demultiplex_\" '{print $2}' <<<$s);if [ ${sample%%.*} != \"unmatched\" ]; then sample=${sample%%.*};\n",
    "echo $sample;\n",
    "bowtie2 -p 12 -N 0 -5 $trim_5 -3 $trim_3 --un $run/unaligned_${sample}.sam -x $run/${genome}_${enzyme}_flanking_sequences_${size}_unique.fa -U $run/Demultiplex_${sample}.fastq -S $run/${sample}.sam;\n",
    "fi;done;\n",
    "\n",
    "#Creating .bedGraph files for IGV and R\n",
    "for s in $run/Demultiplex_*.fastq;do sample=$(awk -F\"Demultiplex_\" '{print $2}' <<<$s);if [ ${sample%%.*} != \"unmatched\" ]; then sample=${sample%%.*};\n",
    "echo $sample;\n",
    "awk '{print $3}' ${sample}.sam | grep \"^ch\" | sort | uniq -c | sed -e 's/_\\|:\\| \\|-/\\t/g' | awk '{print $2\"\\t\"$3\"\\t\"$4\"\\t\"$1 }' - > ${sample}.bedGraph;\n",
    "fi;done;\n",
    "\n",
    "#Remove self ligated and undigested\n",
    "\n",
    "for SLURM_ARRAY_TASK_ID in {1..6};do\n",
    "bait=$(awk \"NR==${SLURM_ARRAY_TASK_ID} {print \\$1}\" $home/$bait_file);\n",
    "watson_seq=$(awk \"NR==${SLURM_ARRAY_TASK_ID} {print \\$2}\" $home/$bait_file);\n",
    "genome=$(awk \"NR==${SLURM_ARRAY_TASK_ID} {print \\$3}\" $home/$bait_file);\n",
    "enzyme=$(awk \"NR==${SLURM_ARRAY_TASK_ID} {print \\$4}\" $home/$bait_file);\n",
    "fl=$(awk \"NR==${SLURM_ARRAY_TASK_ID} {print \\$5}\" $home/$bait_file);\n",
    "grep -i -B 1 \"${watson_seq}\" $run/${genome}_${enzyme}_flanking_sequences_${fl}_unique_2.fa | head -n1 | sed 's/>//g' | sed 's/:/./g' | sed 's/-/./g' > temp1_${bait}_${genome}_${enzyme}.txt;\n",
    "grep -E -f temp1_${bait}_${genome}_${enzyme}.txt -A 1 -B 1 $run/${genome}_${enzyme}_flanking_sites_${fl}_unique_2.bed |sed -n '1p;$p' | sed 's/\\t/./g' > temp2_${bait}_${genome}_${enzyme}.txt;\n",
    "for file in *${bait}*.bedGraph; do grep -v -f temp2_${bait}_${genome}_${enzyme}.txt -E $file > $(echo $file | sed 's/.bedGraph/_noUndSL.bedGraph/g'); done;\n",
    "rm temp*_${bait}_${genome}_${enzyme}.txt;\n",
    "done;"
   ]
  },
  {
   "cell_type": "markdown",
   "metadata": {},
   "source": [
    "### &nbsp;&nbsp;&nbsp;&nbsp;3.3) R analysis"
   ]
  },
  {
   "cell_type": "markdown",
   "metadata": {},
   "source": [
    "All the following command have to be launch in R<br>"
   ]
  },
  {
   "cell_type": "code",
   "execution_count": null,
   "metadata": {
    "collapsed": true
   },
   "outputs": [],
   "source": [
    "#In R\n",
    "library(R.4Cker)\n",
    "\n",
    "#Variables\n",
    "\n",
    "\n",
    "#Replace with your genome, enzyme, FL\n",
    "enz_file=read.table(\"GRCm38.p6.genome_dpnii_flanking_sites_24_unique_2.bed\", stringsAsFactors = FALSE)\n",
    "setwd(\"./\")\n",
    "\n",
    "bait=\"Emu\"\n",
    "\n",
    "####################################TOO LONG TO AUTOMATE SAMPLES AND CONDITIONS###########################\n",
    "\n",
    "#my_obj\n",
    "my_obj = createR4CkerObjectFromFiles(files = list.files(pattern=glob2rx(\"*noUndSL.bedGraph\")),\n",
    "                                     bait_chr=\"chr12\",\n",
    "                                     bait_coord= 113428382,\n",
    "                                     bait_name = $bait,\n",
    "                                     primary_enz = \"GATC\",\n",
    "                                     samples = c(\"KO1\", \"KO1\", \"KO1\", \"WT1\", \"WT2\", \"WT3\"),\n",
    "                                     conditions = c(\"KO\", \"WT\"),\n",
    "                                     replicates = c(3,3),\n",
    "                                     species = \"mm\",\n",
    "                                     output_dir = \"./EU_4CKER/\",\n",
    "                                     enz_file=enz_file)\n",
    "\n",
    "nb_nearBait=nearBaitAnalysis(my_obj,5)\n",
    "nb_cis=cisAnalysis(my_obj,5)\n",
    "nb_trans=transAnalysis(my_obj,10)"
   ]
  },
  {
   "cell_type": "markdown",
   "metadata": {},
   "source": [
    "### &nbsp;&nbsp;&nbsp;&nbsp;3.4) Other R stuff (not working)"
   ]
  },
  {
   "cell_type": "code",
   "execution_count": null,
   "metadata": {
    "collapsed": true
   },
   "outputs": [],
   "source": [
    "#PLOT 3RR\n",
    "list.files(pattern=glob2rx(\"3RR*noUndSL.bedGraph\"))-> file_names\n",
    "for (i in file_names){\n",
    "  assign(i, read.table(i))\n",
    "}\n",
    "options(scipen=999)\n",
    "#MUST CHANGE define window size and overlap. Here I was looking at a very large region, hence the large window sizes. If looking at smaller regions (<500kb) maybe 10kb is good.\n",
    "w=10000\n",
    "ov=0.1\n",
    "#***MUST CHANGE define region of analyzis. Doesnt have to be symetric. I like it to have the whole Bait region. That can be 300kb or 4 Mb, depending on local TAD structure.\n",
    "bait_chrom=\"chr12\"\n",
    "window_begin=112000000\n",
    "window_end=115000000\n",
    "start = seq (window_begin , window_end-w, by=w*ov)\n",
    "end = seq (window_begin +w, window_end, by=w*ov)\n",
    "start_end=(cbind(start,end))\n",
    "data=NULL\n",
    "for (k in file_names){\n",
    "  data_2 = sapply(start_end[,1], function(j) sum(get(k)[(get(k)[,2] >= j & get(k)[,3] <= j+w & get(k)[,1]==bait_chrom),4]))\n",
    "  data=cbind(data,data_2)\n",
    "}\n",
    "data_4=data\n",
    "samples = file_names\n",
    "colnames(data_4) = samples\n",
    "library(DESeq2)\n",
    "#MUST CHANGE DEFINE Conditions and replicates\n",
    "genotypes = c(\"3RR_cE_5_43m\",\"3RR_cE_5_6_LPS\",\"3RR_hs3b4_2_43m\",\"3RR_hs3b4_2_LPS\")\n",
    "condition = factor(c(rep(\"3RR_cE_5_43m\",1), rep(\"3RR_cE_5_6_LPS\",1), rep(\"3RR_hs3b4_2_43m\",1), rep(\"3RR_hs3b4_2_LPS\",1)))\n",
    "colData = data.frame(c(rep(\"3RR_cE_5_43m\",1), rep(\"3RR_cE_5_6_LPS\",1), rep(\"3RR_hs3b4_2_43m\",1), rep(\"3RR_hs3b4_2_LPS\",1)))\n",
    "colnames(colData) = c(\"condition\")\n",
    "dds = DESeqDataSetFromMatrix(countData=data_4,\n",
    "                             colData = colData,\n",
    "                             design = ~ condition)\n",
    "colData(dds)$condition <- factor(colData(dds)$condition,\n",
    "                                 levels=genotypes)\n",
    "design(dds) <- formula(~condition)\n",
    "dds = DESeq(dds)\n",
    "#MUST CHANGE DEFINE COMPARISONS and pval\n",
    "comparisons = rbind(c(\"DND41_C\",\"DND41_DBZ\"), c(\"Jurkat_C\",\"Jurkat_DBZ\") , c(\"DND41_C\",\"Jurkat_C\"), c(\"DND41_DBZ\",\"Jurkat_DBZ\"))\n",
    "p_val = 0.1\n",
    "for(i in 1:nrow(comparisons)){\n",
    "  res = results(dds, contrast = c(\"condition\", comparisons[i,1], comparisons[i,2]))\n",
    "  res[which(is.na(res[,6])),6] = 1\n",
    "  res_sig = res[res[,6] < p_val & !is.na(res[,6]),]\n",
    "  assign(paste(comparisons[i,1],\"_\", comparisons[i,2], sep =\"\"), res)\n",
    "  assign(paste(comparisons[i,1],\"_\", comparisons[i,2],\"_sig\", sep =\"\"), res_sig)\n",
    "}\n",
    "norm_counts = cbind(start_end[,1], counts(dds, normalized = TRUE))\n",
    "#MUST CHANGE LINES ACCORDING TO CONDs\n",
    "cond1 = sapply(1:nrow(start_end), function(j) mean(norm_counts[j,2:4]))\n",
    "cond2 = sapply(1:nrow(start_end), function(j) mean(norm_counts[j,5:7]))\n",
    "cond3 = sapply(1:nrow(start_end), function(j) mean(norm_counts[j,8:10]))\n",
    "cond4 = sapply(1:nrow(start_end), function(j) mean(norm_counts[j,11:13]))\n",
    "norm_counts_all=cbind(norm_counts[,1],cond1,cond2,cond3,cond4)\n",
    "\n",
    "coord = which(norm_counts[,1] >=window_begin& start_end[,1] <=window_end)\n",
    "##MUST CAHNGE VARIABLES ACCORDING TO COMPARISON and also the number at the end to get the Y value from the right place\n",
    "cond1_cond2_fdr = cbind(rep(NA, nrow(start_end)))\n",
    "cond1_cond2_fdr[DND41_C_DND41_DBZ[,6] <p_val,1] = norm_counts_all[DND41_C_DND41_DBZ[,6] <p_val,2]\n",
    "cond1_cond2_fdr_2= cbind(rep(NA, nrow(start_end)))\n",
    "cond1_cond2_fdr_2[DND41_C_DND41_DBZ[,6] <p_val,1] = norm_counts_all[DND41_C_DND41_DBZ[,6] <p_val,3]\n",
    "\n",
    "cond3_cond4_fdr = cbind(rep(NA, nrow(start_end)))\n",
    "cond3_cond4_fdr[Jurkat_C_Jurkat_DBZ[,6] <p_val,1] = norm_counts_all[Jurkat_C_Jurkat_DBZ[,6] <p_val,4]\n",
    "cond3_cond4_fdr_2= cbind(rep(NA, nrow(start_end)))\n",
    "cond3_cond4_fdr_2[Jurkat_C_Jurkat_DBZ[,6] <p_val,1] = norm_counts_all[Jurkat_C_Jurkat_DBZ[,6] <p_val,5]\n",
    "\n",
    "cond1_cond3_fdr = cbind(rep(NA, nrow(start_end)))\n",
    "cond1_cond3_fdr[DND41_C_Jurkat_C[,6] <p_val,1] = norm_counts_all[DND41_C_Jurkat_C[,6] <p_val,2]\n",
    "cond1_cond3_fdr_2= cbind(rep(NA, nrow(start_end)))\n",
    "cond1_cond3_fdr_2[DND41_C_Jurkat_C[,6] <p_val,1] = norm_counts_all[DND41_C_Jurkat_C[,6] <p_val,4]\n",
    "\n",
    "cond2_cond4_fdr = cbind(rep(NA, nrow(start_end)))\n",
    "cond2_cond4_fdr[DND41_DBZ_Jurkat_DBZ[,6] <p_val,1] = norm_counts_all[DND41_DBZ_Jurkat_DBZ[,6] <p_val,3]\n",
    "cond2_cond4_fdr_2= cbind(rep(NA, nrow(start_end)))\n",
    "cond2_cond4_fdr_2[DND41_DBZ_Jurkat_DBZ[,6] <p_val,1] = norm_counts_all[DND41_DBZ_Jurkat_DBZ[,6] <p_val,5]\n",
    "\n",
    "quartz()\n",
    "plot(norm_counts_all[,1], norm_counts_all[coord,2], type=\"l\", col =\"limegreen\", lwd =3)\n",
    "lines(norm_counts_all[,1], norm_counts_all[coord,3], type=\"l\", col =\"darkgreen\", lwd =3)\n",
    "legend(window_begin+100000,80000,c(\"DND41_C\", \"DND41_DBZ\"),lty = 1,lwd =1, col = c( \"limegreen\",\"darkgreen\"))\n",
    "points(start_end[coord,1],(cond1_cond2_fdr[coord,1]), col =\"limegreen\", pch =19, cex =2)\n",
    "points(start_end[coord,1],(cond1_cond2_fdr_2[coord,1]), col =\"darkgreen\", pch =19, cex =2)\n",
    "quartz()\n",
    "plot(norm_counts_all[,1], norm_counts_all[coord,4], type=\"l\", col =\"orange\", lwd =4)\n",
    "lines(norm_counts_all[,1], norm_counts_all[coord,5], type=\"l\", col =\"red\", lwd =4)\n",
    "legend(window_begin+100000,40000,c(\"Jurkat_C\",\"Jurkat_DBZ\" ),lty = c(1,1),lwd =rep(2,2), col = c( \"orange\",\"red\"))\n",
    "points(start_end[coord,1],(cond3_cond4_fdr[coord,1]), col =\"orange\", pch =19, cex =2)\n",
    "points(start_end[coord,1],(cond3_cond4_fdr_2[coord,1]), col =\"red\", pch =19, cex =2)\n",
    "quartz()\n",
    "plot(norm_counts_all[,1], norm_counts_all[coord,2], type=\"l\", col =\"limegreen\", lwd =4)\n",
    "lines(norm_counts_all[,1], norm_counts_all[coord,4], type=\"l\", col =\"orange\", lwd =4)\n",
    "legend(window_begin+100000,80000,c(\"DND41_C\", \"Jurkat_C\" ),lty = c(1,1),lwd =rep(2,2), col = c( \"limegreen\",\"orange\"))\n",
    "points(start_end[coord,1],(cond1_cond3_fdr[coord,1]), col =\"limegreen\", pch =19, cex =2)\n",
    "points(start_end[coord,1],(cond1_cond3_fdr_2[coord,1]), col =\"orange\", pch =19, cex =2)\n",
    "quartz()\n",
    "plot(norm_counts_all[,1], norm_counts_all[coord,3], type=\"l\", col =\"darkgreen\", lwd =4)\n",
    "lines(norm_counts_all[,1], norm_counts_all[coord,5], type=\"l\", col =\"red\", lwd =4)\n",
    "legend(window_begin+100000,80000,c(\"DND41_DBZ\",\"Jurkat_DBZ\" ),lty = c(1,1),lwd =rep(2,2), col = c( \"darkgreen\",\"red\"))\n",
    "points(start_end[coord,1],(cond2_cond4_fdr[coord,1]), col =\"darkgreen\", pch =19, cex =2)\n",
    "points(start_end[coord,1],(cond2_cond4_fdr_2[coord,1]), col =\"red\", pch =19, cex =2)\n",
    "\n",
    "quartz()\n",
    "plot(norm_counts_all[,1], norm_counts_all[coord,2], type=\"l\", col =\"limegreen\", lwd =4)\n",
    "lines(norm_counts_all[,1], norm_counts_all[coord,3], type=\"l\", col =\"darkgreen\", lwd =4)\n",
    "lines(norm_counts_all[,1], norm_counts_all[coord,4], type=\"l\", col =\"orange\", lwd =4)\n",
    "lines(norm_counts_all[,1], norm_counts_all[coord,5], type=\"l\", col =\"red\", lwd =4)\n",
    "legend(window_begin+100000,80000,c(\"DND41_C\", \"DND41_DBZ\",\"Jurkat_C\",\"Jurkat_DBZ\" ),lty = c(1,1),lwd =rep(2,2), col = c( \"limegreen\",\"darkgreen\",\"orange\",\"red\"))\n",
    "\n",
    "#save median files for igv\n",
    "for (i in 1:length(genotypes)){\n",
    "  write.table(cbind(rep(bait_chrom,nrow(start_end)),start_end,norm_counts_all[,i+1]), paste(genotypes[i], \"_\",bait_chrom,\"_w\", w,\"_ov\", ov, \".bedGraph\", sep = \"\"), quote = FALSE, col.names = FALSE, row.names = FALSE)\n",
    "}\n",
    "#save individual bedgraph files for igv\n",
    "for (i in 1:length(samples)){\n",
    "  write.table(cbind(rep(bait_chrom,nrow(start_end)),start_end,norm_counts[,i+1]), paste(samples[i], \"_\",bait_chrom,\"_w_\", w,\"_ov\", ov, \".bedGraph\", sep = \"\"), quote = FALSE, col.names = FALSE, row.names = FALSE)\n",
    "}"
   ]
  }
 ],
 "metadata": {
  "anaconda-cloud": {},
  "kernelspec": {
   "display_name": "Bash",
   "language": "bash",
   "name": "bash"
  },
  "language_info": {
   "codemirror_mode": "shell",
   "file_extension": ".sh",
   "mimetype": "text/x-sh",
   "name": "bash"
  }
 },
 "nbformat": 4,
 "nbformat_minor": 1
}
